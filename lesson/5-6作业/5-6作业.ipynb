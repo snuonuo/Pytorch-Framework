{
 "cells": [
  {
   "cell_type": "markdown",
   "metadata": {},
   "source": [
    "### 【任务1】"
   ]
  },
  {
   "cell_type": "markdown",
   "metadata": {},
   "source": [
    "**任务名称：**  \n",
    "学习率调整；TensorBoard简介与安装"
   ]
  },
  {
   "cell_type": "markdown",
   "metadata": {},
   "source": [
    "**任务简介：**  \n",
    "熟悉pytorch的学习率调整策略；安装可视化工具TensorBoard"
   ]
  },
  {
   "cell_type": "markdown",
   "metadata": {},
   "source": [
    "**详细说明：**  \n",
    "本节第一部分讲解pytorch中提供的学习率调整策略，首先介绍基类_LRScheduler基本属性与方法，然后逐个学习率方法进行讲解使用，分别Step、MultiStep、Exponential、CosineAnnealing、ReduceLROnPleateau和Lambda，一共六种学习率调整策略；\n",
    "\n",
    "本节第二部分讲解可视化工具TensorBoard的运行机制与安装过程，TensorBoard是强大的可视化工具，起初为TensorFlow的副产品，但目前PyTorch已支持TensorBoard的使用。目前，TensorBoard支持Scalars, Images, Audio, Graphs, Distrbutions, Histograms, Embeddings, Text等数据的可视化。"
   ]
  },
  {
   "cell_type": "markdown",
   "metadata": {},
   "source": [
    "**作业名称（详解）：**  \n",
    "1. 熟悉TensorBoard的运行机制，安装TensorBoard，并绘制曲线 y = 2*x。"
   ]
  },
  {
   "cell_type": "code",
   "execution_count": null,
   "metadata": {},
   "outputs": [],
   "source": [
    "import numpy as np\n",
    "from torch.utils.tensorboard import SummaryWriter\n",
    "\n",
    "writer = SummaryWriter(comment='test_tensorboard')\n",
    "\n",
    "for x in range(100):\n",
    "    writer.add_scalar('y=2x', x * 2, x)\n",
    "\n",
    "writer.close()\n",
    "\n",
    "\n",
    "# 用tensorboard --logdir=路径 在网页终端显示出绘制的曲线"
   ]
  },
  {
   "cell_type": "markdown",
   "metadata": {},
   "source": [
    "### 【任务2】"
   ]
  },
  {
   "cell_type": "markdown",
   "metadata": {},
   "source": [
    "**任务名称：**  \n",
    "TensorBoard使用(一)；TensorBoard使用(二)；"
   ]
  },
  {
   "cell_type": "markdown",
   "metadata": {},
   "source": [
    "**任务简介：**  \n",
    "学习TensorBoard中scalar与histogram的使用；学习TensorBoard中Image与PyTorch的make_grid使用。\n"
   ]
  },
  {
   "cell_type": "markdown",
   "metadata": {},
   "source": [
    "**详细说明：**  \n",
    "本节第一部分学习TensorBoard的SummaryWriter类的基本属性，然后学习add_scalar, add_scalars和add_histogram的使用，最后采用所学函数实现模型训练过程中的Loss曲线，Accuracy曲线的对比监控，同时对参数及其梯度的分布进行可视化。\n",
    "\n",
    "本节第二部分学习TensorBoard的add_image方法，并学习PyTorch的make_grid函数构建网格图片，对批量图片进行可视化，最后采用所学函数对AlexNet网络卷积核与特征图进行可视化分析。\n"
   ]
  },
  {
   "cell_type": "markdown",
   "metadata": {},
   "source": [
    "**作业名称（详解）：**  \n",
    "1. 可视化任意网络模型训练的Loss，及Accuracy曲线图，Train与Valid必须在同一个图中。\n",
    "\n",
    "2. 采用make_grid，对任意图像训练输入数据进行批量可视化。 \n"
   ]
  },
  {
   "cell_type": "markdown",
   "metadata": {},
   "source": [
    "### 【任务3】"
   ]
  },
  {
   "cell_type": "markdown",
   "metadata": {},
   "source": [
    "**任务名称：**  \n",
    "hook函数与CAM(class activation map, 类激活图)\n"
   ]
  },
  {
   "cell_type": "markdown",
   "metadata": {},
   "source": [
    "**任务简介：**  \n",
    "学习pytorch的hook函数机制以及CAM可视化算法"
   ]
  },
  {
   "cell_type": "markdown",
   "metadata": {},
   "source": [
    "**详细说明：**\n",
    "深入学习了解pytorch的hook函数运行机制，介绍pytorch中提供的4种hook函数，分别为：\n",
    "1. torch.Tensor.register_hook(hook)\n",
    "2. torch.nn.Module.register_forward_hook\n",
    "3. torch.nn.Module.register_forward_pre_hook\n",
    "4. torch.nn.Module.register_backward_hook\n",
    "最后，介绍CAM可视化及其改进算法Grad-CAM  \n"
   ]
  },
  {
   "cell_type": "markdown",
   "metadata": {},
   "source": [
    "**作业名称（详解）：** \n",
    "1. 采用torch.nn.Module.register_forward_hook机制实现AlexNet第一个卷积层输出特征图的可视化，并将/torchvision/models/alexnet.py中第28行改为：nn.ReLU(inplace=False)，观察inplace=True与inplace=False的差异。"
   ]
  }
 ],
 "metadata": {
  "kernelspec": {
   "display_name": "Python 3",
   "language": "python",
   "name": "python3"
  },
  "language_info": {
   "codemirror_mode": {
    "name": "ipython",
    "version": 3
   },
   "file_extension": ".py",
   "mimetype": "text/x-python",
   "name": "python",
   "nbconvert_exporter": "python",
   "pygments_lexer": "ipython3",
   "version": "3.7.7"
  }
 },
 "nbformat": 4,
 "nbformat_minor": 4
}
